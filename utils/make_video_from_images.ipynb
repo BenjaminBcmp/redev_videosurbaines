{
 "cells": [
  {
   "cell_type": "markdown",
   "metadata": {},
   "source": [
    "Ce notebook a pour but de convertir un dossier d'images en une vidéo."
   ]
  },
  {
   "cell_type": "markdown",
   "metadata": {},
   "source": [
    "# Fonctions"
   ]
  },
  {
   "cell_type": "code",
   "execution_count": 1,
   "metadata": {},
   "outputs": [],
   "source": [
    "import cv2\n",
    "import os\n",
    "from IPython.display import Video"
   ]
  },
  {
   "cell_type": "code",
   "execution_count": 2,
   "metadata": {},
   "outputs": [],
   "source": [
    "def video_from_images(img_folder, output_path, fps=1):\n",
    "    '''From https://stackoverflow.com/questions/44947505/how-to-make-a-movie-out-of-images-in-python'''\n",
    "    images = [img for img in os.listdir(img_folder) if img.endswith(\".png\")]\n",
    "    images.sort()\n",
    "    frame = cv2.imread(os.path.join(img_folder, images[0]))\n",
    "    height, width, layers = frame.shape\n",
    "\n",
    "    video = cv2.VideoWriter(output_path, 0, fps, (width,height))\n",
    "\n",
    "    for image in images:\n",
    "        video.write(cv2.cvtColor(cv2.imread(os.path.join(img_folder, image)), cv2.COLOR_BGR2RGB))\n",
    "\n",
    "    cv2.destroyAllWindows()\n",
    "    video.release()\n",
    "    \n",
    "def display_video(video_path):\n",
    "    return Video(video_path)"
   ]
  },
  {
   "cell_type": "markdown",
   "metadata": {},
   "source": [
    "# Faster R-CNN"
   ]
  },
  {
   "cell_type": "code",
   "execution_count": 15,
   "metadata": {},
   "outputs": [],
   "source": [
    "img_folder = '../inference/faster_rcnn/Parcours_1_1hz/images'\n",
    "output_path = '../video/faster_rcnn_parcours_1_1hz.avi'\n",
    "video_from_images(img_folder, output_path, 1)\n",
    "# display_video(output_path)"
   ]
  },
  {
   "cell_type": "markdown",
   "metadata": {},
   "source": [
    "# Mask R-CNN"
   ]
  },
  {
   "cell_type": "code",
   "execution_count": 3,
   "metadata": {},
   "outputs": [],
   "source": [
    "img_folder = '../inference/mask_rcnn/Parcours_1_1hz/images'\n",
    "output_path = '../video/mask_rcnn_parcours_1_1hz.avi'\n",
    "video_from_images(img_folder, output_path, 1)\n",
    "# display_video(output_path)"
   ]
  },
  {
   "cell_type": "markdown",
   "metadata": {},
   "source": [
    "# Panoptic FPN"
   ]
  },
  {
   "cell_type": "code",
   "execution_count": 4,
   "metadata": {},
   "outputs": [],
   "source": [
    "img_folder = '../inference/panoptic_fpn/Parcours_1_1hz/images'\n",
    "output_path = '../video/panoptic_fpn_parcours_1_1hz.avi'\n",
    "video_from_images(img_folder, output_path, 1)\n",
    "# display_video(output_path)"
   ]
  },
  {
   "cell_type": "code",
   "execution_count": null,
   "metadata": {},
   "outputs": [],
   "source": [
    "img_folder = '../inference/faster_rcnn/Parcours_1_20hz/images'\n",
    "output_path = '../video/panoptic_fpn_parcours_1_20hz.avi'\n",
    "video_from_images(img_folder, output_path, 20)\n",
    "# display_video(output_path)"
   ]
  },
  {
   "cell_type": "markdown",
   "metadata": {},
   "source": [
    "# YOLOv3"
   ]
  },
  {
   "cell_type": "code",
   "execution_count": null,
   "metadata": {},
   "outputs": [],
   "source": []
  }
 ],
 "metadata": {
  "kernelspec": {
   "display_name": "Python 3",
   "language": "python",
   "name": "python3"
  },
  "language_info": {
   "codemirror_mode": {
    "name": "ipython",
    "version": 3
   },
   "file_extension": ".py",
   "mimetype": "text/x-python",
   "name": "python",
   "nbconvert_exporter": "python",
   "pygments_lexer": "ipython3",
   "version": "3.6.9"
  }
 },
 "nbformat": 4,
 "nbformat_minor": 4
}
