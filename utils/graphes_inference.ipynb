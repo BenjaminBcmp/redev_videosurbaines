{
 "cells": [
  {
   "cell_type": "markdown",
   "metadata": {},
   "source": [
    "Ce notebook sert à afficher des graphiques qui résument les outputs de l'inférence sur `Parcours_1` avec les différents algorithmes."
   ]
  },
  {
   "cell_type": "code",
   "execution_count": 1,
   "metadata": {},
   "outputs": [],
   "source": [
    "%matplotlib inline\n",
    "import numpy as np\n",
    "import matplotlib.pyplot as plt\n",
    "import pandas as pd\n",
    "#import seaborn as sns\n",
    "#sns.set()"
   ]
  },
  {
   "cell_type": "markdown",
   "metadata": {},
   "source": [
    "# Données"
   ]
  },
  {
   "cell_type": "markdown",
   "metadata": {},
   "source": [
    "## Importation des données"
   ]
  },
  {
   "cell_type": "code",
   "execution_count": 2,
   "metadata": {},
   "outputs": [],
   "source": [
    "def import_outputs(path, panoptic=False):\n",
    "    df = pd.read_json(path, orient='index')\n",
    "    df.index = df.index.astype(int)\n",
    "    if panoptic:\n",
    "        df['pred_classes'] = df.apply(lambda row: [elem['category_id'] for elem in row if elem is not None], axis=1)\n",
    "        df = df.filter(['pred_classes'])\n",
    "    else:\n",
    "        df.drop('scores', axis=1, inplace=True)\n",
    "    return df"
   ]
  },
  {
   "cell_type": "code",
   "execution_count": 3,
   "metadata": {},
   "outputs": [],
   "source": [
    "faster = import_outputs('../inference/faster_rcnn/Parcours_1_1hz/outputs.json')\n",
    "mask = import_outputs('../inference/mask_rcnn/Parcours_1_1hz/outputs.json')\n",
    "panoptic = import_outputs('../inference/panoptic_fpn/Parcours_1_1hz/outputs.json', True)"
   ]
  },
  {
   "cell_type": "markdown",
   "metadata": {},
   "source": [
    "Labels :"
   ]
  },
  {
   "cell_type": "code",
   "execution_count": 4,
   "metadata": {},
   "outputs": [
    {
     "name": "stdout",
     "output_type": "stream",
     "text": [
      "loading annotations into memory...\n",
      "Done (t=0.38s)\n",
      "creating index...\n",
      "index created!\n"
     ]
    }
   ],
   "source": [
    "from pycocotools.coco import COCO\n",
    "dataDir = '../datasets/coco'\n",
    "dataType = 'val2017'\n",
    "annFile = '{}/annotations/instances_{}.json'.format(dataDir,dataType)\n",
    "coco = COCO(annFile)\n",
    "cats = coco.loadCats(coco.getCatIds())\n",
    "labels = [cat['name'] for cat in cats]"
   ]
  },
  {
   "cell_type": "markdown",
   "metadata": {},
   "source": [
    "## Création d'un unique dataframe"
   ]
  },
  {
   "cell_type": "code",
   "execution_count": 5,
   "metadata": {},
   "outputs": [],
   "source": [
    "classes = pd.concat([faster['pred_classes'].rename('faster'),\n",
    "                     mask['pred_classes'].rename('mask'), \n",
    "                     panoptic['pred_classes'].rename('panoptic')], axis=1)"
   ]
  },
  {
   "cell_type": "code",
   "execution_count": 6,
   "metadata": {},
   "outputs": [],
   "source": [
    "def count_classes(preds, name, label_max=80):\n",
    "    counts = {k: 0 for k in range(label_max)}\n",
    "    for _, pred in preds.iteritems():\n",
    "        for p in pred:\n",
    "            counts[p] += 1\n",
    "    return pd.DataFrame.from_dict(counts, orient='index', columns=[name])"
   ]
  },
  {
   "cell_type": "code",
   "execution_count": 12,
   "metadata": {},
   "outputs": [
    {
     "data": {
      "text/html": [
       "<div>\n",
       "<style scoped>\n",
       "    .dataframe tbody tr th:only-of-type {\n",
       "        vertical-align: middle;\n",
       "    }\n",
       "\n",
       "    .dataframe tbody tr th {\n",
       "        vertical-align: top;\n",
       "    }\n",
       "\n",
       "    .dataframe thead th {\n",
       "        text-align: right;\n",
       "    }\n",
       "</style>\n",
       "<table border=\"1\" class=\"dataframe\">\n",
       "  <thead>\n",
       "    <tr style=\"text-align: right;\">\n",
       "      <th></th>\n",
       "      <th>faster</th>\n",
       "      <th>mask</th>\n",
       "      <th>panoptic</th>\n",
       "    </tr>\n",
       "  </thead>\n",
       "  <tbody>\n",
       "    <tr>\n",
       "      <th>car</th>\n",
       "      <td>1331</td>\n",
       "      <td>1364</td>\n",
       "      <td>1274</td>\n",
       "    </tr>\n",
       "    <tr>\n",
       "      <th>bicycle</th>\n",
       "      <td>1095</td>\n",
       "      <td>1186</td>\n",
       "      <td>937</td>\n",
       "    </tr>\n",
       "    <tr>\n",
       "      <th>person</th>\n",
       "      <td>507</td>\n",
       "      <td>493</td>\n",
       "      <td>447</td>\n",
       "    </tr>\n",
       "    <tr>\n",
       "      <th>bench</th>\n",
       "      <td>296</td>\n",
       "      <td>283</td>\n",
       "      <td>312</td>\n",
       "    </tr>\n",
       "    <tr>\n",
       "      <th>chair</th>\n",
       "      <td>189</td>\n",
       "      <td>185</td>\n",
       "      <td>206</td>\n",
       "    </tr>\n",
       "  </tbody>\n",
       "</table>\n",
       "</div>"
      ],
      "text/plain": [
       "         faster  mask  panoptic\n",
       "car        1331  1364      1274\n",
       "bicycle    1095  1186       937\n",
       "person      507   493       447\n",
       "bench       296   283       312\n",
       "chair       189   185       206"
      ]
     },
     "execution_count": 12,
     "metadata": {},
     "output_type": "execute_result"
    }
   ],
   "source": [
    "counts = pd.concat([count_classes(faster['pred_classes'], 'faster'),\n",
    "                    count_classes(mask['pred_classes'], 'mask'),\n",
    "                    count_classes(panoptic['pred_classes'], 'panoptic')], axis=1)\n",
    "counts.index = labels\n",
    "# counts = counts.iloc[np.argsort(-counts.sum(axis=1)), :]  # sort the dataframe\n",
    "counts = counts.iloc[np.argsort(-counts['faster']), :]  # sort the dataframe\n",
    "counts.head()"
   ]
  },
  {
   "cell_type": "markdown",
   "metadata": {},
   "source": [
    "# Affichage"
   ]
  },
  {
   "cell_type": "code",
   "execution_count": 17,
   "metadata": {},
   "outputs": [
    {
     "data": {
      "image/png": "[encoded data removed]",
      "text/plain": [
       "<Figure size 936x504 with 1 Axes>"
      ]
     },
     "metadata": {
      "needs_background": "light"
     },
     "output_type": "display_data"
    }
   ],
   "source": [
    "lim = 10\n",
    "barWidth = 0.25\n",
    "\n",
    "fig = plt.figure(figsize=(lim+3,7))\n",
    "ax = plt.gca()\n",
    " \n",
    "# Set position of bar on X axis\n",
    "x1 = np.arange(lim)\n",
    "x2 = [x + barWidth for x in x1]\n",
    "x3 = [x + barWidth for x in x2]\n",
    " \n",
    "# Make the plot\n",
    "ax.bar(x1, counts[:lim]['faster'], color='#7f6d5f', width=barWidth, edgecolor='white', label='faster')\n",
    "ax.bar(x2, counts[:lim]['mask'], color='#557f2d', width=barWidth, edgecolor='white', label='mask')\n",
    "ax.bar(x3, counts[:lim]['panoptic'], color='#2d7f5e', width=barWidth, edgecolor='white', label='panoptic')\n",
    " \n",
    "# Add xticks on the middle of the group bars\n",
    "ax.set_xlabel('Classe prédite', fontweight='bold')\n",
    "plt.xticks([r + barWidth for r in range(lim)], counts.index[:lim].to_numpy())\n",
    " \n",
    "# Create legend & Show graphic\n",
    "ax.legend()\n",
    "ax.set_title('Nombre de prédictions pour chaque classe par algorithme')\n",
    "fig.show()"
   ]
  },
  {
   "cell_type": "code",
   "execution_count": null,
   "metadata": {},
   "outputs": [],
   "source": []
  }
 ],
 "metadata": {
  "kernelspec": {
   "display_name": "Python 3",
   "language": "python",
   "name": "python3"
  },
  "language_info": {
   "codemirror_mode": {
    "name": "ipython",
    "version": 3
   },
   "file_extension": ".py",
   "mimetype": "text/x-python",
   "name": "python",
   "nbconvert_exporter": "python",
   "pygments_lexer": "ipython3",
   "version": "3.6.9"
  }
 },
 "nbformat": 4,
 "nbformat_minor": 4
}
