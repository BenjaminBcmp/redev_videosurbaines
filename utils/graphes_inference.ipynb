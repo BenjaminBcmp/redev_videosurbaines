{
 "cells": [
  {
   "cell_type": "markdown",
   "metadata": {
    "toc": true
   },
   "source": [
    "<h1>Table of Contents<span class=\"tocSkip\"></span></h1>\n",
    "<div class=\"toc\"><ul class=\"toc-item\"><li><span><a href=\"#Utils\" data-toc-modified-id=\"Utils-1\">Utils</a></span></li><li><span><a href=\"#Comparaison-entre-algorithmes\" data-toc-modified-id=\"Comparaison-entre-algorithmes-2\">Comparaison entre algorithmes</a></span><ul class=\"toc-item\"><li><span><a href=\"#Création-d'un-unique-dataframe\" data-toc-modified-id=\"Création-d'un-unique-dataframe-2.1\">Création d'un unique dataframe</a></span></li><li><span><a href=\"#Affichage\" data-toc-modified-id=\"Affichage-2.2\">Affichage</a></span></li><li><span><a href=\"#Temps-d'inférence\" data-toc-modified-id=\"Temps-d'inférence-2.3\">Temps d'inférence</a></span></li></ul></li><li><span><a href=\"#Comparaison-pour-des-qualités-d'images-différentes\" data-toc-modified-id=\"Comparaison-pour-des-qualités-d'images-différentes-3\">Comparaison pour des qualités d'images différentes</a></span><ul class=\"toc-item\"><li><span><a href=\"#Unique-dataframe\" data-toc-modified-id=\"Unique-dataframe-3.1\">Unique dataframe</a></span></li><li><span><a href=\"#Affichage\" data-toc-modified-id=\"Affichage-3.2\">Affichage</a></span></li></ul></li><li><span><a href=\"#Temps-d'inférence-pour-différentes-qualités-d'images\" data-toc-modified-id=\"Temps-d'inférence-pour-différentes-qualités-d'images-4\">Temps d'inférence pour différentes qualités d'images</a></span></li></ul></div>"
   ]
  },
  {
   "cell_type": "markdown",
   "metadata": {},
   "source": [
    "Ce notebook sert à afficher des graphiques qui résument les outputs de l'inférence sur `Parcours_1` avec les différents algorithmes."
   ]
  },
  {
   "cell_type": "code",
   "execution_count": 1,
   "metadata": {},
   "outputs": [],
   "source": [
    "%matplotlib inline\n",
    "import numpy as np\n",
    "import matplotlib.pyplot as plt\n",
    "import pandas as pd\n",
    "#import seaborn as sns\n",
    "#sns.set()"
   ]
  },
  {
   "cell_type": "markdown",
   "metadata": {},
   "source": [
    "# Utils"
   ]
  },
  {
   "cell_type": "code",
   "execution_count": 2,
   "metadata": {},
   "outputs": [],
   "source": [
    "def import_outputs(path, panoptic=False):\n",
    "    df = pd.read_json(path, orient='index')\n",
    "    df.index = df.index.astype(int)\n",
    "    if panoptic:\n",
    "        df['pred_classes'] = df.apply(lambda row: [elem['category_id'] for elem in row if elem is not None], axis=1)\n",
    "        df = df.filter(['pred_classes'])\n",
    "    else:\n",
    "        df.drop('scores', axis=1, inplace=True)\n",
    "    return df"
   ]
  },
  {
   "cell_type": "code",
   "execution_count": 3,
   "metadata": {},
   "outputs": [],
   "source": [
    "def count_classes(preds, name, label_max=80):\n",
    "    counts = {k: 0 for k in range(label_max)}\n",
    "    for _, pred in preds.iteritems():\n",
    "        for p in pred:\n",
    "            counts[p] += 1\n",
    "    return pd.DataFrame.from_dict(counts, orient='index', columns=[name])"
   ]
  },
  {
   "cell_type": "markdown",
   "metadata": {},
   "source": [
    "Labels :"
   ]
  },
  {
   "cell_type": "code",
   "execution_count": 4,
   "metadata": {},
   "outputs": [
    {
     "name": "stdout",
     "output_type": "stream",
     "text": [
      "loading annotations into memory...\n",
      "Done (t=0.84s)\n",
      "creating index...\n",
      "index created!\n"
     ]
    },
    {
     "data": {
      "text/plain": [
       "['person', 'bicycle', 'car', 'motorcycle', 'airplane']"
      ]
     },
     "execution_count": 4,
     "metadata": {},
     "output_type": "execute_result"
    }
   ],
   "source": [
    "from pycocotools.coco import COCO\n",
    "dataDir = '/Users/Benjamin/Documents/INFO/R&D/Projet/coco'\n",
    "dataType = 'val2017'\n",
    "annFile = '{}/annotations/instances_{}.json'.format(dataDir,dataType)\n",
    "coco = COCO(annFile)\n",
    "cats = coco.loadCats(coco.getCatIds())\n",
    "labels = [cat['name'] for cat in cats]\n",
    "labels[:5]"
   ]
  },
  {
   "cell_type": "markdown",
   "metadata": {},
   "source": [
    "# Comparaison entre algorithmes"
   ]
  },
  {
   "cell_type": "code",
   "execution_count": 6,
   "metadata": {},
   "outputs": [],
   "source": [
    "faster = import_outputs('/Users/Benjamin/Documents/INFO/R&D/Projet/outputs_parcours_1/outputs_fasterrcnn.json')\n",
    "mask = import_outputs('/Users/Benjamin/Documents/INFO/R&D/Projet/outputs_parcours_1/outputs_maskrcnn.json')\n",
    "panoptic = import_outputs('/Users/Benjamin/Documents/INFO/R&D/Projet/outputs_parcours_1/outputs_panopticfpn.json', True)"
   ]
  },
  {
   "cell_type": "markdown",
   "metadata": {},
   "source": [
    "## Création d'un unique dataframe"
   ]
  },
  {
   "cell_type": "code",
   "execution_count": 7,
   "metadata": {},
   "outputs": [],
   "source": [
    "classes = pd.concat([faster['pred_classes'].rename('faster'),\n",
    "                     mask['pred_classes'].rename('mask'), \n",
    "                     panoptic['pred_classes'].rename('panoptic')], axis=1)"
   ]
  },
  {
   "cell_type": "code",
   "execution_count": 8,
   "metadata": {},
   "outputs": [
    {
     "data": {
      "text/html": [
       "<div>\n",
       "<style scoped>\n",
       "    .dataframe tbody tr th:only-of-type {\n",
       "        vertical-align: middle;\n",
       "    }\n",
       "\n",
       "    .dataframe tbody tr th {\n",
       "        vertical-align: top;\n",
       "    }\n",
       "\n",
       "    .dataframe thead th {\n",
       "        text-align: right;\n",
       "    }\n",
       "</style>\n",
       "<table border=\"1\" class=\"dataframe\">\n",
       "  <thead>\n",
       "    <tr style=\"text-align: right;\">\n",
       "      <th></th>\n",
       "      <th>faster</th>\n",
       "      <th>mask</th>\n",
       "      <th>panoptic</th>\n",
       "    </tr>\n",
       "  </thead>\n",
       "  <tbody>\n",
       "    <tr>\n",
       "      <th>car</th>\n",
       "      <td>1331</td>\n",
       "      <td>1364</td>\n",
       "      <td>1274</td>\n",
       "    </tr>\n",
       "    <tr>\n",
       "      <th>bicycle</th>\n",
       "      <td>1095</td>\n",
       "      <td>1186</td>\n",
       "      <td>937</td>\n",
       "    </tr>\n",
       "    <tr>\n",
       "      <th>person</th>\n",
       "      <td>507</td>\n",
       "      <td>493</td>\n",
       "      <td>447</td>\n",
       "    </tr>\n",
       "    <tr>\n",
       "      <th>bench</th>\n",
       "      <td>296</td>\n",
       "      <td>283</td>\n",
       "      <td>312</td>\n",
       "    </tr>\n",
       "    <tr>\n",
       "      <th>chair</th>\n",
       "      <td>189</td>\n",
       "      <td>185</td>\n",
       "      <td>206</td>\n",
       "    </tr>\n",
       "  </tbody>\n",
       "</table>\n",
       "</div>"
      ],
      "text/plain": [
       "         faster  mask  panoptic\n",
       "car        1331  1364      1274\n",
       "bicycle    1095  1186       937\n",
       "person      507   493       447\n",
       "bench       296   283       312\n",
       "chair       189   185       206"
      ]
     },
     "execution_count": 8,
     "metadata": {},
     "output_type": "execute_result"
    }
   ],
   "source": [
    "counts = pd.concat([count_classes(faster['pred_classes'], 'faster'),\n",
    "                    count_classes(mask['pred_classes'], 'mask'),\n",
    "                    count_classes(panoptic['pred_classes'], 'panoptic')], axis=1)\n",
    "counts.index = labels\n",
    "# counts = counts.iloc[np.argsort(-counts.sum(axis=1)), :]  # sort the dataframe\n",
    "counts = counts.iloc[np.argsort(-counts['faster']), :]  # sort the dataframe\n",
    "counts.head()"
   ]
  },
  {
   "cell_type": "markdown",
   "metadata": {},
   "source": [
    "## Affichage"
   ]
  },
  {
   "cell_type": "code",
   "execution_count": 12,
   "metadata": {},
   "outputs": [
    {
     "name": "stderr",
     "output_type": "stream",
     "text": [
      "/Library/Frameworks/Python.framework/Versions/3.6/lib/python3.6/site-packages/ipykernel_launcher.py:29: UserWarning: Matplotlib is currently using module://ipykernel.pylab.backend_inline, which is a non-GUI backend, so cannot show the figure.\n"
     ]
    },
    {
     "data": {
      "image/png": "[encoded data removed]",
      "text/plain": [
       "<Figure size 936x504 with 1 Axes>"
      ]
     },
     "metadata": {
      "needs_background": "light"
     },
     "output_type": "display_data"
    }
   ],
   "source": [
    "lim = 10\n",
    "barWidth = 0.2\n",
    "\n",
    "fig = plt.figure(figsize=(lim+3,7))\n",
    "ax = plt.gca()\n",
    " \n",
    "# Set position of bar on X axis\n",
    "x1 = np.arange(lim)\n",
    "x2 = [x + barWidth for x in x1]\n",
    "x3 = [x + barWidth for x in x2]\n",
    " \n",
    "# Make the plot\n",
    "ax.bar(x1, counts[:lim]['faster'], color='#7f6d5f', width=barWidth, edgecolor='white', label='Faster R-CNN')\n",
    "ax.bar(x2, counts[:lim]['mask'], color='#557f2d', width=barWidth, edgecolor='white', label='Mask R-CNN')\n",
    "ax.bar(x3, counts[:lim]['panoptic'], color='#2d7f5e', width=barWidth, edgecolor='white', label='Panoptic-FPN')\n",
    " \n",
    "# Add xticks on the middle of the group bars\n",
    "ax.set_xlabel('Class predicted', fontweight='bold', fontsize=15)\n",
    "plt.xticks([r + barWidth for r in range(lim)], counts.index[:lim].to_numpy())\n",
    "\n",
    "# Remove spines\n",
    "ax.spines['right'].set_visible(False)\n",
    "ax.spines['top'].set_visible(False)\n",
    " \n",
    "# Create legend & Show graphic\n",
    "ax.legend()\n",
    "#ax.set_title('Nombre de prédictions pour chaque classe par algorithme')\n",
    "fig.tight_layout()\n",
    "fig.show()\n",
    "fig.savefig('/Users/Benjamin/Documents/INFO/R&D/Projet/images_rapport/temps_inference_multi_algo.png', dpi=400)"
   ]
  },
  {
   "cell_type": "markdown",
   "metadata": {},
   "source": [
    "## Temps d'inférence"
   ]
  },
  {
   "cell_type": "code",
   "execution_count": null,
   "metadata": {},
   "outputs": [],
   "source": []
  },
  {
   "cell_type": "markdown",
   "metadata": {},
   "source": [
    "# Comparaison pour des qualités d'images différentes"
   ]
  },
  {
   "cell_type": "markdown",
   "metadata": {
    "heading_collapsed": true
   },
   "source": [
    "## Unique dataframe"
   ]
  },
  {
   "cell_type": "code",
   "execution_count": 10,
   "metadata": {
    "hidden": true
   },
   "outputs": [
    {
     "data": {
      "text/html": [
       "<div>\n",
       "<style scoped>\n",
       "    .dataframe tbody tr th:only-of-type {\n",
       "        vertical-align: middle;\n",
       "    }\n",
       "\n",
       "    .dataframe tbody tr th {\n",
       "        vertical-align: top;\n",
       "    }\n",
       "\n",
       "    .dataframe thead th {\n",
       "        text-align: right;\n",
       "    }\n",
       "</style>\n",
       "<table border=\"1\" class=\"dataframe\">\n",
       "  <thead>\n",
       "    <tr style=\"text-align: right;\">\n",
       "      <th></th>\n",
       "      <th>270p</th>\n",
       "      <th>540p</th>\n",
       "      <th>810p</th>\n",
       "      <th>default</th>\n",
       "    </tr>\n",
       "  </thead>\n",
       "  <tbody>\n",
       "    <tr>\n",
       "      <th>car</th>\n",
       "      <td>691</td>\n",
       "      <td>1058</td>\n",
       "      <td>1218</td>\n",
       "      <td>1586</td>\n",
       "    </tr>\n",
       "    <tr>\n",
       "      <th>bicycle</th>\n",
       "      <td>468</td>\n",
       "      <td>712</td>\n",
       "      <td>852</td>\n",
       "      <td>1149</td>\n",
       "    </tr>\n",
       "    <tr>\n",
       "      <th>person</th>\n",
       "      <td>162</td>\n",
       "      <td>292</td>\n",
       "      <td>398</td>\n",
       "      <td>597</td>\n",
       "    </tr>\n",
       "    <tr>\n",
       "      <th>wine glass</th>\n",
       "      <td>301</td>\n",
       "      <td>347</td>\n",
       "      <td>372</td>\n",
       "      <td>379</td>\n",
       "    </tr>\n",
       "    <tr>\n",
       "      <th>broccoli</th>\n",
       "      <td>401</td>\n",
       "      <td>386</td>\n",
       "      <td>379</td>\n",
       "      <td>373</td>\n",
       "    </tr>\n",
       "  </tbody>\n",
       "</table>\n",
       "</div>"
      ],
      "text/plain": [
       "            270p  540p  810p  default\n",
       "car          691  1058  1218     1586\n",
       "bicycle      468   712   852     1149\n",
       "person       162   292   398      597\n",
       "wine glass   301   347   372      379\n",
       "broccoli     401   386   379      373"
      ]
     },
     "execution_count": 10,
     "metadata": {},
     "output_type": "execute_result"
    }
   ],
   "source": [
    "list_counts = []\n",
    "resolutions = ['270p', '540p', '810p', 'default']\n",
    "data_path = '/Users/Benjamin/Documents/INFO/R&D/Projet/panoptic_fpn/'\n",
    "for resolution in resolutions:\n",
    "    df = import_outputs(data_path + f'Parcours_1_1hz_{resolution}/outputs.json', True)\n",
    "    list_counts.append(count_classes(df['pred_classes'], resolution))\n",
    "counts = pd.concat(list_counts, axis=1)\n",
    "counts.index = labels\n",
    "counts = counts.iloc[np.argsort(-counts['default']), :]  # sort the dataframe\n",
    "counts.head()"
   ]
  },
  {
   "cell_type": "markdown",
   "metadata": {},
   "source": [
    "## Affichage"
   ]
  },
  {
   "cell_type": "code",
   "execution_count": 61,
   "metadata": {},
   "outputs": [
    {
     "name": "stderr",
     "output_type": "stream",
     "text": [
      "/Library/Frameworks/Python.framework/Versions/3.6/lib/python3.6/site-packages/ipykernel_launcher.py:32: UserWarning: Matplotlib is currently using module://ipykernel.pylab.backend_inline, which is a non-GUI backend, so cannot show the figure.\n"
     ]
    },
    {
     "data": {
      "image/png": "[encoded data removed]",
      "text/plain": [
       "<Figure size 936x504 with 1 Axes>"
      ]
     },
     "metadata": {
      "needs_background": "light"
     },
     "output_type": "display_data"
    }
   ],
   "source": [
    "lim = 10\n",
    "barWidth = 0.2\n",
    "\n",
    "fig = plt.figure(figsize=(lim+3,7))\n",
    "ax = plt.gca()\n",
    " \n",
    "# Set position of bar on X axis\n",
    "x1 = range(lim)\n",
    "x2 = [x + barWidth for x in x1]\n",
    "x3 = [x + barWidth for x in x2]\n",
    "x4 = [x + barWidth for x in x3]\n",
    "xticks = [(xx2 + xx3)/2 for xx2, xx3 in zip(x2, x3)]\n",
    "\n",
    "# Make the plot\n",
    "ax.bar(x1, counts[:lim]['270p'], color='#7f6d5f', width=barWidth, edgecolor='white', label='270p')\n",
    "ax.bar(x2, counts[:lim]['540p'], color='#557f2d', width=barWidth, edgecolor='white', label='540p')\n",
    "ax.bar(x3, counts[:lim]['810p'], color='#2d7f5e', width=barWidth, edgecolor='white', label='810p')\n",
    "ax.bar(x4, counts[:lim]['default'], color='k', width=barWidth, edgecolor='white', label='1080p')\n",
    " \n",
    "# Add xticks on the middle of the group bars\n",
    "ax.set_xlabel('Class predicted', fontweight='bold', fontsize=15)\n",
    "plt.xticks(xticks, counts.index[:lim].to_numpy())\n",
    "\n",
    "# Remove spines\n",
    "ax.spines['right'].set_visible(False)\n",
    "ax.spines['top'].set_visible(False)\n",
    " \n",
    "# Create legend & Show graphic\n",
    "ax.legend()\n",
    "#ax.set_title('Nombre de prédictions pour chaque classe pour différentes résolutions')\n",
    "fig.tight_layout()\n",
    "fig.show()\n",
    "fig.savefig('/Users/Benjamin/Documents/INFO/R&D/Projet/images_rapport/classes_predites_resolution.png', dpi=400)"
   ]
  },
  {
   "cell_type": "markdown",
   "metadata": {},
   "source": [
    "# Temps d'inférence pour différentes qualités d'images"
   ]
  },
  {
   "cell_type": "code",
   "execution_count": 63,
   "metadata": {},
   "outputs": [
    {
     "name": "stderr",
     "output_type": "stream",
     "text": [
      "/Library/Frameworks/Python.framework/Versions/3.6/lib/python3.6/site-packages/ipykernel_launcher.py:17: UserWarning: Matplotlib is currently using module://ipykernel.pylab.backend_inline, which is a non-GUI backend, so cannot show the figure.\n"
     ]
    },
    {
     "data": {
      "image/png": "[encoded data removed]",
      "text/plain": [
       "<Figure size 648x504 with 1 Axes>"
      ]
     },
     "metadata": {
      "needs_background": "light"
     },
     "output_type": "display_data"
    }
   ],
   "source": [
    "resolutions = ['270p', '540p', '810p', '1080p']\n",
    "times = [0.06, 0.09, 0.15, 0.24]\n",
    "\n",
    "fig = plt.figure(figsize=(9,7))\n",
    "ax = plt.gca()\n",
    "ax.plot(resolutions, times, linestyle='--')\n",
    "ax.scatter(resolutions, times)\n",
    "\n",
    "# Remove spines\n",
    "ax.spines['right'].set_visible(False)\n",
    "ax.spines['top'].set_visible(False)\n",
    "\n",
    "ax.set_xlabel('Resolution', fontweight='bold', fontsize=15)\n",
    "ax.set_ylabel('Mean inference time (in seconds)', fontweight='bold', fontsize=15)\n",
    "\n",
    "fig.tight_layout()\n",
    "fig.show()\n",
    "fig.savefig('/Users/Benjamin/Documents/INFO/R&D/Projet/images_rapport/temps_inference_resolution_panoptic.png', dpi=400)"
   ]
  },
  {
   "cell_type": "code",
   "execution_count": null,
   "metadata": {},
   "outputs": [],
   "source": []
  }
 ],
 "metadata": {
  "kernelspec": {
   "display_name": "Python 3",
   "language": "python",
   "name": "python3"
  },
  "language_info": {
   "codemirror_mode": {
    "name": "ipython",
    "version": 3
   },
   "file_extension": ".py",
   "mimetype": "text/x-python",
   "name": "python",
   "nbconvert_exporter": "python",
   "pygments_lexer": "ipython3",
   "version": "3.6.5"
  },
  "toc": {
   "base_numbering": 1,
   "nav_menu": {},
   "number_sections": false,
   "sideBar": true,
   "skip_h1_title": false,
   "title_cell": "Table of Contents",
   "title_sidebar": "Contents",
   "toc_cell": true,
   "toc_position": {},
   "toc_section_display": true,
   "toc_window_display": false
  }
 },
 "nbformat": 4,
 "nbformat_minor": 4
}
