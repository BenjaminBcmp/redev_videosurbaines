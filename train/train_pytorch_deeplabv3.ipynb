{
 "cells": [
  {
   "cell_type": "markdown",
   "metadata": {},
   "source": [
    "# Entraînement de DeepLabv3 sur COCO 2017"
   ]
  },
  {
   "cell_type": "markdown",
   "metadata": {},
   "source": [
    "Ce notebook a pour but d'entraîner de zéro le réseau DeepLabv3 ResNet50, à partir de l'implémentation proposée par PyTorch https://pytorch.org/hub/pytorch_vision_deeplabv3_resnet101/.\n",
    "\n",
    "Le réseau sera entraîné sur `coco_train2017` et évalué sur `coco_val2017`. Il doit être entraîné de zéro car la version proposée par PyTorch ne comporte que les 21 classes que COCO partage avec Pascal VOC."
   ]
  },
  {
   "cell_type": "code",
   "execution_count": null,
   "metadata": {},
   "outputs": [],
   "source": []
  }
 ],
 "metadata": {
  "kernelspec": {
   "display_name": "Python 3",
   "language": "python",
   "name": "python3"
  },
  "language_info": {
   "codemirror_mode": {
    "name": "ipython",
    "version": 3
   },
   "file_extension": ".py",
   "mimetype": "text/x-python",
   "name": "python",
   "nbconvert_exporter": "python",
   "pygments_lexer": "ipython3",
   "version": "3.6.9"
  }
 },
 "nbformat": 4,
 "nbformat_minor": 4
}
